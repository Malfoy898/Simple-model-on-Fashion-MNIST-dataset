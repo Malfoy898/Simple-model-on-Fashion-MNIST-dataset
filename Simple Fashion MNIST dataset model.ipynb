{
  "nbformat": 4,
  "nbformat_minor": 0,
  "metadata": {
    "colab": {
      "name": "my_fash_mnist_model.ipynb",
      "provenance": [],
      "collapsed_sections": []
    },
    "kernelspec": {
      "name": "python3",
      "display_name": "Python 3"
    },
    "language_info": {
      "name": "python"
    },
    "accelerator": "GPU"
  },
  "cells": [
    {
      "cell_type": "code",
      "metadata": {
        "id": "xT0-yLMndOrJ"
      },
      "source": [
        "import tensorflow as tf\n",
        "from tensorflow.keras.models import Sequential\n",
        "from tensorflow.keras.layers import Flatten,Dense\n",
        "from tensorflow.keras.layers import Conv2D, MaxPooling2D"
      ],
      "execution_count": 6,
      "outputs": []
    },
    {
      "cell_type": "code",
      "metadata": {
        "id": "J5tD4EJedfUH"
      },
      "source": [
        "mnist_fash=Sequential([\n",
        "    Conv2D(16,(3,3),input_shape=(26,26,1)),\n",
        "    MaxPooling2D(3,3),\n",
        "    Flatten(),\n",
        "    Dense(10,activation='softmax')\n",
        "])"
      ],
      "execution_count": 7,
      "outputs": []
    },
    {
      "cell_type": "code",
      "metadata": {
        "id": "Dd0-nZXfdjxS"
      },
      "source": [
        "data=tf.keras.datasets.fashion_mnist\n",
        "(train_q,train_a),(test_q,test_a)=data.load_data()"
      ],
      "execution_count": 8,
      "outputs": []
    },
    {
      "cell_type": "code",
      "metadata": {
        "id": "jwgxuGwOdoWT"
      },
      "source": [
        "mnist_fash.compile(optimizer='adam',loss='sparse_categorical_crossentropy',metrics=['mae','accuracy'])"
      ],
      "execution_count": 9,
      "outputs": []
    },
    {
      "cell_type": "code",
      "metadata": {
        "colab": {
          "base_uri": "https://localhost:8080/"
        },
        "id": "u9OEuhegdr2Y",
        "outputId": "29ba21a1-129d-496d-91b3-4ff7b09ca248"
      },
      "source": [
        "import numpy as np\n",
        "mnist_fash.fit(train_q[...,np.newaxis],train_a,epochs=5,batch_size=256)"
      ],
      "execution_count": 10,
      "outputs": [
        {
          "output_type": "stream",
          "text": [
            "Epoch 1/5\n",
            "WARNING:tensorflow:Model was constructed with shape (None, 26, 26, 1) for input KerasTensor(type_spec=TensorSpec(shape=(None, 26, 26, 1), dtype=tf.float32, name='conv2d_1_input'), name='conv2d_1_input', description=\"created by layer 'conv2d_1_input'\"), but it was called on an input with incompatible shape (None, 28, 28, 1).\n",
            "WARNING:tensorflow:Model was constructed with shape (None, 26, 26, 1) for input KerasTensor(type_spec=TensorSpec(shape=(None, 26, 26, 1), dtype=tf.float32, name='conv2d_1_input'), name='conv2d_1_input', description=\"created by layer 'conv2d_1_input'\"), but it was called on an input with incompatible shape (None, 28, 28, 1).\n",
            "235/235 [==============================] - 1s 3ms/step - loss: 5.6467 - mae: 4.4200 - accuracy: 0.7219\n",
            "Epoch 2/5\n",
            "235/235 [==============================] - 1s 3ms/step - loss: 1.6595 - mae: 4.4200 - accuracy: 0.8087\n",
            "Epoch 3/5\n",
            "235/235 [==============================] - 1s 3ms/step - loss: 1.1675 - mae: 4.4200 - accuracy: 0.8270\n",
            "Epoch 4/5\n",
            "235/235 [==============================] - 1s 3ms/step - loss: 0.9111 - mae: 4.4200 - accuracy: 0.8395\n",
            "Epoch 5/5\n",
            "235/235 [==============================] - 1s 3ms/step - loss: 0.7478 - mae: 4.4200 - accuracy: 0.8461\n"
          ],
          "name": "stdout"
        },
        {
          "output_type": "execute_result",
          "data": {
            "text/plain": [
              "<tensorflow.python.keras.callbacks.History at 0x7f363a380650>"
            ]
          },
          "metadata": {
            "tags": []
          },
          "execution_count": 10
        }
      ]
    },
    {
      "cell_type": "code",
      "metadata": {
        "colab": {
          "base_uri": "https://localhost:8080/"
        },
        "id": "WT2Vrxb8dwB2",
        "outputId": "377634d9-2317-488a-f374-6b52aa0de892"
      },
      "source": [
        "loss,mae,accuracy=mnist_fash.evaluate(test_q[...,np.newaxis],test_a)\n",
        "print(\"loss is \",loss)\n",
        "print(\"accuracy is \",accuracy)"
      ],
      "execution_count": 14,
      "outputs": [
        {
          "output_type": "stream",
          "text": [
            "313/313 [==============================] - 1s 2ms/step - loss: 0.8170 - mae: 4.4200 - accuracy: 0.8285\n",
            "loss is  0.8170055747032166\n",
            "accuracy is  0.828499972820282\n"
          ],
          "name": "stdout"
        }
      ]
    },
    {
      "cell_type": "code",
      "metadata": {
        "colab": {
          "base_uri": "https://localhost:8080/",
          "height": 282
        },
        "id": "-rqakYNBkR3L",
        "outputId": "c068b8de-fb75-4bad-c19d-1ccfbc3bb430"
      },
      "source": [
        "import matplotlib.pyplot as plt\n",
        "plt.imshow(train_q[27])\n",
        "print(train_a[27])\n"
      ],
      "execution_count": 16,
      "outputs": [
        {
          "output_type": "stream",
          "text": [
            "2\n"
          ],
          "name": "stdout"
        },
        {
          "output_type": "display_data",
          "data": {
            "image/png": "[encoded data removed]",
            "text/plain": [
              "<Figure size 432x288 with 1 Axes>"
            ]
          },
          "metadata": {
            "tags": [],
            "needs_background": "light"
          }
        }
      ]
    },
    {
      "cell_type": "code",
      "metadata": {
        "colab": {
          "base_uri": "https://localhost:8080/"
        },
        "id": "LwJFS9VTktm6",
        "outputId": "2f54c4f8-b17f-413f-9c36-7cc979ab31ae"
      },
      "source": [
        "te=train_q[32]\n",
        "prediction=mnist_fash.predict(te[np.newaxis,...,np.newaxis])\n",
        "print(np.argmax(prediction))\n",
        "print(\"true is \",train_a[32])"
      ],
      "execution_count": 17,
      "outputs": [
        {
          "output_type": "stream",
          "text": [
            "6\n",
            "true is  6\n"
          ],
          "name": "stdout"
        }
      ]
    },
    {
      "cell_type": "code",
      "metadata": {
        "id": "-xkIbDjhlXGw"
      },
      "source": [
        ""
      ],
      "execution_count": null,
      "outputs": []
    }
  ]
}